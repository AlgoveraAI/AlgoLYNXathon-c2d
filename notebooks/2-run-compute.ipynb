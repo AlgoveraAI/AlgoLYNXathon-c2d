{
 "cells": [
  {
   "cell_type": "code",
   "execution_count": 1,
   "id": "0a271b1b",
   "metadata": {},
   "outputs": [],
   "source": [
    "from IPython.display import Image "
   ]
  },
  {
   "cell_type": "code",
   "execution_count": 2,
   "id": "43bc8663",
   "metadata": {},
   "outputs": [
    {
     "name": "stdout",
     "output_type": "stream",
     "text": [
      "config.network_url = 'https://rinkeby.infura.io/v3/d163c48816434b0bbb3ac3925d6c6c80'\n",
      "config.block_confirmations = 0\n",
      "config.metadata_cache_uri = 'https://aquarius.oceanprotocol.com'\n",
      "config.provider_url = 'https://provider.rinkeby.oceanprotocol.com'\n"
     ]
    }
   ],
   "source": [
    "import time\n",
    "\n",
    "from ocean_lib.ocean.ocean import Ocean\n",
    "from ocean_lib.config import Config\n",
    "\n",
    "config = Config('config.ini')\n",
    "ocean = Ocean(config)\n",
    "\n",
    "print(f\"config.network_url = '{config.network_url}'\")\n",
    "print(f\"config.block_confirmations = {config.block_confirmations.value}\")\n",
    "print(f\"config.metadata_cache_uri = '{config.metadata_cache_uri}'\")\n",
    "print(f\"config.provider_url = '{config.provider_url}'\")"
   ]
  },
  {
   "cell_type": "code",
   "execution_count": 3,
   "id": "59188d00",
   "metadata": {},
   "outputs": [
    {
     "name": "stdout",
     "output_type": "stream",
     "text": [
      "public address = '0x2338e4e94AEe1817701F65f2c751f7c844b0e43b'\n"
     ]
    }
   ],
   "source": [
    "import os\n",
    "from ocean_lib.web3_internal.wallet import Wallet\n",
    "\n",
    "wallet = Wallet(ocean.web3, os.getenv('MY_TEST_KEY'), transaction_timeout=20, block_confirmations=config.block_confirmations)\n",
    "\n",
    "print(f\"public address = '{wallet.address}'\")"
   ]
  },
  {
   "cell_type": "code",
   "execution_count": 4,
   "id": "3b4711b3",
   "metadata": {},
   "outputs": [
    {
     "name": "stdout",
     "output_type": "stream",
     "text": [
      "Data token info = '{'address': '0x1F7eEDD29299F6aa33d4711b8e6e122466f199e1', 'name': 'Astonishing Cormorant Token', 'symbol': 'ASTCOR-81', 'decimals': 18, 'cap': 1000.0}'\n",
      "Dataset name = 'sample-data-testing-EEG-zip'\n",
      "Data token address = '0x1F7eEDD29299F6aa33d4711b8e6e122466f199e1'\n"
     ]
    }
   ],
   "source": [
    "DATA_ddo = ocean.assets.resolve(\"did:op:1F7eEDD29299F6aa33d4711b8e6e122466f199e1\")\n",
    "data_token = ocean.get_data_token(DATA_ddo.data_token_address)\n",
    "token_address = data_token.address\n",
    "\n",
    "print(f\"Data token info = '{DATA_ddo.values['dataTokenInfo']}'\")\n",
    "print(f\"Dataset name = '{DATA_ddo.metadata['main']['name']}'\")\n",
    "print(f\"Data token address = '{data_token.address}'\")"
   ]
  },
  {
   "cell_type": "markdown",
   "id": "03488ad8",
   "metadata": {},
   "source": [
    "## Acquire datatokens for data and algorithm"
   ]
  },
  {
   "cell_type": "markdown",
   "id": "008765e6",
   "metadata": {},
   "source": [
    "For compute-to-data, we need at least one data token and one algorithm token. Let's check if we have any of the required data tokens in our wallet."
   ]
  },
  {
   "cell_type": "code",
   "execution_count": 5,
   "id": "0240b050",
   "metadata": {},
   "outputs": [],
   "source": [
    "token_address = data_token.address"
   ]
  },
  {
   "cell_type": "code",
   "execution_count": 6,
   "id": "3cc260e1",
   "metadata": {},
   "outputs": [
    {
     "name": "stdout",
     "output_type": "stream",
     "text": [
      "Data Scientist has 0 ASTCOR-81 (0 wei) data tokens.\n"
     ]
    }
   ],
   "source": [
    "from ocean_lib.web3_internal.currency import pretty_ether_and_wei\n",
    "print(f\"Data Scientist has {pretty_ether_and_wei(data_token.balanceOf(wallet.address), data_token.symbol())} data tokens.\")"
   ]
  },
  {
   "cell_type": "markdown",
   "id": "c3498ed5",
   "metadata": {},
   "source": [
    "You won't have any the first time you run this code (or after you run a compute job). We can either purchase some data tokens using the Ocean marketplace app or using the Python API."
   ]
  },
  {
   "cell_type": "markdown",
   "id": "facbb02d",
   "metadata": {},
   "source": [
    "There are 2 options for publishing datasets on the Ocean marketplace. You can publish with fixed price or dynamic pricing. For simplicity, we have published the BCI dataset with fixed price. \n",
    "The code below is taken from the ocean.py tutorial for buying data tokens with [fixed price](https://github.com/oceanprotocol/ocean.py/blob/8087ca8d7bfcd489fead45b59cdf5021d21e2d9d/READMEs/fixed-rate-exchange-flow.md). "
   ]
  },
  {
   "cell_type": "code",
   "execution_count": 7,
   "id": "b9a46d93",
   "metadata": {},
   "outputs": [
    {
     "name": "stdout",
     "output_type": "stream",
     "text": [
      "    Searched blocks 10310451-10311450. TokenRegistered event not yet found.\n",
      "    Searched blocks 10309451-10310450. TokenRegistered event not yet found.\n",
      "    Searched blocks 10308451-10309450. TokenRegistered event not yet found.\n",
      "    Searched blocks 10307451-10308450. TokenRegistered event not yet found.\n",
      "    Searched blocks 10306451-10307450. TokenRegistered event not yet found.\n",
      "    Searched blocks 10305451-10306450. TokenRegistered event not yet found.\n",
      "    Searched blocks 10304451-10305450. TokenRegistered event not yet found.\n",
      "    Searched blocks 10305607-10306606. 1 ExchangeCreated events detected so far.\n",
      "    Searched blocks 10306607-10307606. 1 ExchangeCreated events detected so far.\n",
      "    Searched blocks 10307607-10308606. 1 ExchangeCreated events detected so far.\n",
      "    Searched blocks 10308607-10309606. 1 ExchangeCreated events detected so far.\n",
      "    Searched blocks 10309607-10310606. 1 ExchangeCreated events detected so far.\n",
      "    Searched blocks 10310607-10311606. 1 ExchangeCreated events detected so far.\n",
      "    Searched blocks 10311607-10312450. 1 ExchangeCreated events detected so far.\n"
     ]
    }
   ],
   "source": [
    "#Search for exchange_id from a specific block retrieved at 3rd step\n",
    "#for a certain data token address (e.g. token_address).\n",
    "logs = ocean.exchange.search_exchange_by_data_token(token_address)\n",
    "#E.g. First exchange is the wanted one.\n",
    "exchange_id = logs[0].args.exchangeId"
   ]
  },
  {
   "cell_type": "code",
   "execution_count": 8,
   "id": "4d64c64d",
   "metadata": {},
   "outputs": [],
   "source": [
    "from ocean_lib.web3_internal.currency import to_wei\n",
    "tx_result = ocean.exchange.buy_at_fixed_rate(to_wei(1), wallet, to_wei(5), exchange_id, token_address)\n",
    "assert tx_result, \"failed buying data tokens\""
   ]
  },
  {
   "cell_type": "code",
   "execution_count": 9,
   "id": "708ad28a",
   "metadata": {},
   "outputs": [
    {
     "name": "stdout",
     "output_type": "stream",
     "text": [
      "Data Scientist has 1 ASTCOR-81 (1000000000000000000 wei) data tokens.\n"
     ]
    }
   ],
   "source": [
    "print(f\"Data Scientist has {pretty_ether_and_wei(data_token.balanceOf(wallet.address), data_token.symbol())} data tokens.\")"
   ]
  },
  {
   "cell_type": "markdown",
   "id": "a006bc2a",
   "metadata": {},
   "source": [
    "Let's purchase some algorithm tokens. "
   ]
  },
  {
   "cell_type": "code",
   "execution_count": 10,
   "id": "19ed1c7d",
   "metadata": {},
   "outputs": [
    {
     "name": "stdout",
     "output_type": "stream",
     "text": [
      "Alg token info = '{'address': '0x617e7d2c21A99DB19A0435B1C704d4494c6115de', 'name': 'BCITEST0', 'symbol': 'BCITEST1', 'decimals': 18, 'cap': 1000.0}'\n",
      "Alg name = 'BCI Algorithm'\n"
     ]
    }
   ],
   "source": [
    "ALG_ddo = ocean.assets.resolve(\"did:op:617e7d2c21A99DB19A0435B1C704d4494c6115de\")\n",
    "alg_token = ocean.get_data_token(ALG_ddo.data_token_address)\n",
    "\n",
    "print(f\"Alg token info = '{ALG_ddo.values['dataTokenInfo']}'\")\n",
    "print(f\"Alg name = '{ALG_ddo.metadata['main']['name']}'\")"
   ]
  },
  {
   "cell_type": "code",
   "execution_count": 11,
   "id": "b31e314c",
   "metadata": {},
   "outputs": [
    {
     "name": "stdout",
     "output_type": "stream",
     "text": [
      "Data Scientist has 57.1 BCITEST1 (57137857142857142900 wei) algorithm tokens.\n"
     ]
    }
   ],
   "source": [
    "print(f\"Data Scientist has {pretty_ether_and_wei(alg_token.balanceOf(wallet.address), alg_token.symbol())} algorithm tokens.\")"
   ]
  },
  {
   "cell_type": "markdown",
   "id": "17dff540",
   "metadata": {},
   "source": [
    "## Start compute job\n",
    "\n",
    "Only inputs needed: DATA_did, ALG_did. Everything else can get computed as needed."
   ]
  },
  {
   "cell_type": "code",
   "execution_count": 12,
   "id": "86c1595f",
   "metadata": {},
   "outputs": [],
   "source": [
    "DATA_did = DATA_ddo.did\n",
    "\n",
    "compute_service = DATA_ddo.get_service('compute')\n",
    "\n",
    "from ocean_lib.web3_internal.constants import ZERO_ADDRESS\n",
    "from ocean_lib.models.compute_input import ComputeInput"
   ]
  },
  {
   "cell_type": "code",
   "execution_count": 13,
   "id": "7ea53d68",
   "metadata": {},
   "outputs": [],
   "source": [
    "# order & pay for dataset\n",
    "dataset_order_requirements = ocean.assets.order(\n",
    "    DATA_did, wallet.address, service_type=compute_service.type\n",
    ")\n",
    "DATA_order_tx_id = ocean.assets.pay_for_service(\n",
    "        ocean.web3,\n",
    "        dataset_order_requirements.amount,\n",
    "        dataset_order_requirements.data_token_address,\n",
    "        DATA_did,\n",
    "        compute_service.index,\n",
    "        ZERO_ADDRESS,\n",
    "        wallet,\n",
    "        dataset_order_requirements.computeAddress,\n",
    "    )"
   ]
  },
  {
   "cell_type": "markdown",
   "id": "6d4ace29",
   "metadata": {},
   "source": [
    "If a cell shows an error, try to run it again."
   ]
  },
  {
   "cell_type": "code",
   "execution_count": 14,
   "id": "31ff7fcb",
   "metadata": {},
   "outputs": [],
   "source": [
    "ALG_did = ALG_ddo.did\n",
    "\n",
    "algo_service = ALG_ddo.get_service('access')\n",
    "\n",
    "# order & pay for algo\n",
    "algo_order_requirements = ocean.assets.order(\n",
    "    ALG_did, wallet.address, service_type=algo_service.type\n",
    ")\n",
    "ALG_order_tx_id = ocean.assets.pay_for_service(\n",
    "        ocean.web3,\n",
    "        algo_order_requirements.amount,\n",
    "        algo_order_requirements.data_token_address,\n",
    "        ALG_did,\n",
    "        algo_service.index,\n",
    "        ZERO_ADDRESS,\n",
    "        wallet,\n",
    "        algo_order_requirements.computeAddress,\n",
    ")"
   ]
  },
  {
   "cell_type": "code",
   "execution_count": 15,
   "id": "2a71e194",
   "metadata": {},
   "outputs": [],
   "source": [
    "compute_inputs = [ComputeInput(DATA_did, DATA_order_tx_id, compute_service.index)]"
   ]
  },
  {
   "cell_type": "code",
   "execution_count": 16,
   "id": "582b5292",
   "metadata": {},
   "outputs": [
    {
     "name": "stdout",
     "output_type": "stream",
     "text": [
      "Started compute job with id: 253e62e8b77c4e57980e56fc67f111b5\n"
     ]
    }
   ],
   "source": [
    "job_id = ocean.compute.start(\n",
    "    compute_inputs,\n",
    "    wallet,\n",
    "    algorithm_did=ALG_did,\n",
    "    algorithm_tx_id=ALG_order_tx_id,\n",
    "    algorithm_data_token=alg_token.address\n",
    ")\n",
    "print(f\"Started compute job with id: {job_id}\")"
   ]
  },
  {
   "cell_type": "markdown",
   "id": "77d8c3ae",
   "metadata": {},
   "source": [
    "## Monitor logs / algorithm output\n",
    "\n",
    "You can check the job status as many times as needed:"
   ]
  },
  {
   "cell_type": "code",
   "execution_count": 17,
   "id": "3c36e066",
   "metadata": {},
   "outputs": [
    {
     "name": "stdout",
     "output_type": "stream",
     "text": [
      "{'ok': True, 'status': 20, 'statusText': 'Configuring volumes'}\n",
      "{'ok': True, 'status': 20, 'statusText': 'Configuring volumes'}\n",
      "{'ok': True, 'status': 20, 'statusText': 'Configuring volumes'}\n",
      "{'ok': True, 'status': 20, 'statusText': 'Configuring volumes'}\n",
      "{'ok': True, 'status': 20, 'statusText': 'Configuring volumes'}\n",
      "{'ok': True, 'status': 20, 'statusText': 'Configuring volumes'}\n",
      "{'ok': True, 'status': 20, 'statusText': 'Configuring volumes'}\n",
      "{'ok': True, 'status': 20, 'statusText': 'Configuring volumes'}\n",
      "{'ok': True, 'status': 20, 'statusText': 'Configuring volumes'}\n",
      "{'ok': True, 'status': 30, 'statusText': 'Provisioning success'}\n",
      "{'ok': True, 'status': 30, 'statusText': 'Provisioning success'}\n",
      "{'ok': True, 'status': 40, 'statusText': 'Running algorithm '}\n",
      "{'ok': True, 'status': 40, 'statusText': 'Running algorithm '}\n",
      "{'ok': True, 'status': 60, 'statusText': 'Publishing results'}\n",
      "{'ok': True, 'status': 60, 'statusText': 'Publishing results'}\n",
      "{'ok': True, 'status': 60, 'statusText': 'Publishing results'}\n",
      "{'ok': True, 'status': 60, 'statusText': 'Publishing results'}\n",
      "{'ok': True, 'status': 70, 'statusText': 'Job finished'}\n"
     ]
    }
   ],
   "source": [
    "status_dict = ocean.compute.status(DATA_did, job_id, wallet)\n",
    "while status_dict['statusText'] != 'Job finished':\n",
    "    status_dict = ocean.compute.status(DATA_did, job_id, wallet)\n",
    "    print(status_dict)\n",
    "    time.sleep(1)"
   ]
  },
  {
   "cell_type": "markdown",
   "id": "cf7d116e",
   "metadata": {},
   "source": [
    "This will output the status of the current job.\n",
    "Here is a list of possible results: [Operator Service Status description](https://github.com/oceanprotocol/operator-service/blob/main/API.md#status-description).\n",
    "\n",
    "Once you get `{'ok': True, 'status': 70, 'statusText': 'Job finished'}`, Bob can check the result of the job."
   ]
  },
  {
   "cell_type": "code",
   "execution_count": 18,
   "id": "d75883fd",
   "metadata": {},
   "outputs": [],
   "source": [
    "result = ocean.compute.result_file(DATA_did, job_id, 0, wallet)  # 0 index, means we retrieve the results from the first dataset index"
   ]
  },
  {
   "cell_type": "markdown",
   "id": "e6dbc0c4",
   "metadata": {},
   "source": [
    "Sometimes the result is empty. When this happens, I just start the compute job again."
   ]
  },
  {
   "cell_type": "code",
   "execution_count": 19,
   "id": "70488914",
   "metadata": {},
   "outputs": [
    {
     "data": {
      "text/plain": [
       "[\"b'Getting input...\",\n",
       " 'Reading from C2D container...',\n",
       " 'DID: 1F7eEDD29299F6aa33d4711b8e6e122466f199e1',\n",
       " 'Asset file /data/inputs/1F7eEDD29299F6aa33d4711b8e6e122466f199e1/0 exists: True',\n",
       " 'Extracting data...',\n",
       " 'Listing files...',\n",
       " '------ extracted',\n",
       " '--------- sample_data_single_column',\n",
       " '------------ sample_col_mathematic.feather',\n",
       " '------------ sample_col_music.feather',\n",
       " '------------ sample_col_eyesclosed.feather',\n",
       " '------------ sample_col_memory.feather',\n",
       " '------------ sample_col_eyesopen.feather',\n",
       " 'Reading files...',\n",
       " 'Data shape: (5, 61, 1)',\n",
       " \"'\"]"
      ]
     },
     "execution_count": 19,
     "metadata": {},
     "output_type": "execute_result"
    }
   ],
   "source": [
    "str(result).split('\\\\n')"
   ]
  },
  {
   "cell_type": "code",
   "execution_count": null,
   "id": "1c7e8642",
   "metadata": {},
   "outputs": [],
   "source": []
  }
 ],
 "metadata": {
  "kernelspec": {
   "display_name": "Python 3",
   "language": "python",
   "name": "python3"
  },
  "language_info": {
   "codemirror_mode": {
    "name": "ipython",
    "version": 3
   },
   "file_extension": ".py",
   "mimetype": "text/x-python",
   "name": "python",
   "nbconvert_exporter": "python",
   "pygments_lexer": "ipython3",
   "version": "3.9.6"
  }
 },
 "nbformat": 4,
 "nbformat_minor": 5
}
