{
 "cells": [
  {
   "cell_type": "markdown",
   "id": "3909046f-8f77-4a2e-9904-209b776f67b1",
   "metadata": {},
   "source": [
    "# AlgoLYNXathon EEG Dataset\n",
    "\n",
    "This notebook goes through the process of reading EEG data in feather format.\n",
    "\n",
    "Feather allows us to store/load entire pandas dataframes."
   ]
  },
  {
   "cell_type": "code",
   "execution_count": null,
   "id": "b8fa6476-ead7-450d-9e32-9e522379363b",
   "metadata": {},
   "outputs": [],
   "source": [
    "from pyarrow.feather import feather\n",
    "import matplotlib.pyplot as plt"
   ]
  },
  {
   "cell_type": "code",
   "execution_count": null,
   "id": "a31465c2-c969-4862-9029-175dfa2e6051",
   "metadata": {},
   "outputs": [],
   "source": [
    "# Read the dataset\n",
    "path = 'fill_in'\n",
    "df = feather.read_feather(path)\n",
    "df.head()"
   ]
  },
  {
   "cell_type": "markdown",
   "id": "a732bd79-b544-489e-8532-a7a2fc985eff",
   "metadata": {},
   "source": [
    "### Analysing EEG data\n",
    "\n",
    "The datasets consist of 100 trials from 48 participants doing 3 trials each, each of which is 300 seconds long with sampling frequency 100 (30000 data points). Each session has a total of 61 electrode channels and all participants have been concatenated together. The dimensions of the dataframe are (8784, 30000) where each row represents a single channel.\n",
    "\n",
    "Each electrode channel is one row in the dataframe, each column is a timestep. To plot a single row, we can use the `iloc` method."
   ]
  },
  {
   "cell_type": "code",
   "execution_count": null,
   "id": "cfd21913-11c5-4fad-a99a-2d0605402dfb",
   "metadata": {},
   "outputs": [],
   "source": [
    "row_number = 0\n",
    "plt.plot(df.iloc[row_number,])"
   ]
  },
  {
   "cell_type": "markdown",
   "id": "a10473f3-cee3-4e9d-9261-6eb550bd8010",
   "metadata": {},
   "source": [
    "To plot a subset of the columns, specify the range in the second position of `iloc` in the form `index_start:index_end`"
   ]
  },
  {
   "cell_type": "code",
   "execution_count": null,
   "id": "9b6ca08f-2e9d-45e7-a45d-bf8e3aea0460",
   "metadata": {},
   "outputs": [],
   "source": [
    "# Plot the first 50 datapoints\n",
    "plt.plot(df.iloc[0, 0:50])"
   ]
  },
  {
   "cell_type": "markdown",
   "id": "17283032-e754-4ae9-be48-bcc2df10feb6",
   "metadata": {},
   "source": [
    "### Using mne-bids to preprocess the dataset\n",
    "\n",
    "If your data is in bids format, use the following code to create preprocessed pandas dataframes with a filter of 1 Hz - 40 Hz and a resampling frequency 100 Hz."
   ]
  },
  {
   "cell_type": "code",
   "execution_count": null,
   "id": "2e934778-b895-4f3d-b7ae-0e2930568422",
   "metadata": {},
   "outputs": [],
   "source": [
    "import os\n",
    "import os.path as op\n",
    "import openneuro\n",
    "import matplotlib.pyplot as plt\n",
    "\n",
    "import mne\n",
    "from mne.datasets import sample\n",
    "from mne_bids import BIDSPath, read_raw_bids, print_dir_tree, make_report\n",
    "import pandas as pd\n",
    "import pyarrow.feather as feather\n",
    "from tqdm import tqdm"
   ]
  },
  {
   "cell_type": "code",
   "execution_count": null,
   "id": "b34d94a1-87e3-404f-a5ba-443adc64d0b4",
   "metadata": {},
   "outputs": [],
   "source": [
    "dataset = 'ds003685'\n",
    "bids_root = op.join(op.dirname(sample.data_path()), dataset)\n",
    "datatype = 'eeg'\n",
    "session = 'session1' # change to session2, session3 after done with first one\n",
    "task = 'mathematic' # change when finished\n",
    "suffix = 'eeg'\n",
    "bids_path = BIDSPath(task=task,\n",
    "                     suffix=suffix, datatype=datatype, root=bids_root)"
   ]
  },
  {
   "cell_type": "code",
   "execution_count": null,
   "id": "807c42b3-f7c2-4823-90c0-4301b9f34691",
   "metadata": {},
   "outputs": [],
   "source": [
    "# get names of the .vhdr files\n",
    "basenames = []\n",
    "for i in tqdm(range(0, 440)):\n",
    "    if bids_path.match()[i].basename[-4:] == 'vhdr':\n",
    "        basenames.append(bids_path.match()[i])"
   ]
  },
  {
   "cell_type": "code",
   "execution_count": null,
   "id": "44a33540-a6a0-4bd5-ad54-3627a4a16f5f",
   "metadata": {},
   "outputs": [],
   "source": [
    "# iterate through all files and create preprocessed dataframes\n",
    "df = pd.DataFrame()\n",
    "for basename in tqdm(basenames):\n",
    "    raw = read_raw_bids(bids_path=basename, verbose=False)\n",
    "    raw.load_data()\n",
    "    raw = raw.filter(1,40)\n",
    "    raw = raw.resample(100, npad=\"auto\") \n",
    "    raw_data = raw.get_data()\n",
    "    df1 = pd.DataFrame(raw_data)\n",
    "    df = pd.concat([df, df1], sort=True)"
   ]
  },
  {
   "cell_type": "code",
   "execution_count": null,
   "id": "5d3250b3-5d8a-4255-917f-273ffc77bf07",
   "metadata": {},
   "outputs": [],
   "source": [
    "# save dataframe in feather format\n",
    "feather.write_feather(df, 'filename.feather')"
   ]
  },
  {
   "cell_type": "markdown",
   "id": "2c379aeb-1953-48d1-8b15-895bcee71dbf",
   "metadata": {},
   "source": [
    "### Download Sample Data from IPFS\n",
    "\n",
    "The sample data contains 30 seconds of the trial 1 for the first 30 participants, all electrodes included."
   ]
  }
 ],
 "metadata": {
  "kernelspec": {
   "display_name": "Python 3",
   "language": "python",
   "name": "python3"
  },
  "language_info": {
   "codemirror_mode": {
    "name": "ipython",
    "version": 3
   },
   "file_extension": ".py",
   "mimetype": "text/x-python",
   "name": "python",
   "nbconvert_exporter": "python",
   "pygments_lexer": "ipython3",
   "version": "3.9.6"
  }
 },
 "nbformat": 4,
 "nbformat_minor": 5
}
